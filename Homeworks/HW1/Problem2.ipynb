{
 "cells": [
  {
   "cell_type": "markdown",
   "id": "27570ea566699a36",
   "metadata": {},
   "source": [
    "# Problem 2\n",
    "\n",
    "Using all three document preprocessors, tokenize the first 1000 documents and record the time. Make a plot showing the time taken for each. Using the average speed per document, estimate how much time it would take to preprocess the entire corpus and write the estimates in a sentence you submit. Describe the trade-offs you observe in the tokenizers’ accuracies and speed and which tokenizer you would use in practice."
   ]
  },
  {
   "cell_type": "code",
   "execution_count": null,
   "id": "initial_id",
   "metadata": {
    "ExecuteTime": {
     "start_time": "2024-10-01T19:20:33.064031Z"
    },
    "collapsed": true,
    "jupyter": {
     "is_executing": true,
     "outputs_hidden": true
    }
   },
   "outputs": [],
   "source": [
    "import time\n",
    "import json\n",
    "import gzip\n",
    "import matplotlib.pyplot as plt\n",
    "import seaborn as sns\n",
    "from tqdm import tqdm\n",
    "from document_preprocessor import SplitTokenizer, RegexTokenizer, SpaCyTokenizer\n",
    "import spacy"
   ]
  },
  {
   "cell_type": "code",
   "execution_count": 2,
   "id": "e3b9d9ad26d19d83",
   "metadata": {
    "ExecuteTime": {
     "end_time": "2024-09-30T19:16:58.068132Z",
     "start_time": "2024-09-30T19:16:57.461471Z"
    }
   },
   "outputs": [
    {
     "name": "stdout",
     "output_type": "stream",
     "text": [
      "Loaded 1000 documents.\n"
     ]
    }
   ],
   "source": [
    "data_path = 'data/wikipedia_200k_dataset.jsonl.gz'\n",
    "\n",
    "def load_documents(file_path, num_docs=1000):\n",
    "    documents = []\n",
    "    with gzip.open(file_path, 'rt', encoding='utf-8') as f:\n",
    "        for i, line in enumerate(f):\n",
    "            if i >= num_docs:\n",
    "                break\n",
    "            doc = json.loads(line)\n",
    "            documents.append(doc)\n",
    "    return documents\n",
    "\n",
    "documents = load_documents(data_path, num_docs=1000)\n",
    "print(f\"Loaded {len(documents)} documents.\")"
   ]
  },
  {
   "cell_type": "code",
   "execution_count": 3,
   "id": "92225b98cc31734",
   "metadata": {
    "ExecuteTime": {
     "end_time": "2024-09-30T19:16:58.084739Z",
     "start_time": "2024-09-30T19:16:58.069170Z"
    }
   },
   "outputs": [
    {
     "name": "stdout",
     "output_type": "stream",
     "text": [
      "Loaded 1442 MWE.\n"
     ]
    }
   ],
   "source": [
    "mwe_path = 'data/multi_word_expressions.txt'\n",
    "\n",
    "def load_multiword_expressions(file_path):\n",
    "    with open(file_path, 'r', encoding='utf-8') as f:\n",
    "        expressions = [line.strip() for line in f if line.strip()]\n",
    "    return expressions\n",
    "\n",
    "multiword_expressions = load_multiword_expressions(mwe_path)\n",
    "print(f\"Loaded {len(multiword_expressions)} MWE.\")"
   ]
  },
  {
   "cell_type": "code",
   "execution_count": 4,
   "id": "69fb9e985fe32b78",
   "metadata": {
    "ExecuteTime": {
     "end_time": "2024-09-30T19:16:58.871995Z",
     "start_time": "2024-09-30T19:16:58.086371Z"
    }
   },
   "outputs": [],
   "source": [
    "split_tokenizer = SplitTokenizer(lowercase=True, multiword_expressions=multiword_expressions)\n",
    "regex_tokenizer = RegexTokenizer(token_regex=r'\\w+', lowercase=True, multiword_expressions=multiword_expressions)\n",
    "spacy_tokenizer = SpaCyTokenizer(lowercase=True, multiword_expressions=multiword_expressions)"
   ]
  },
  {
   "cell_type": "code",
   "execution_count": 5,
   "id": "4ce95681aae8147",
   "metadata": {
    "ExecuteTime": {
     "end_time": "2024-09-30T19:16:58.891262Z",
     "start_time": "2024-09-30T19:16:58.873030Z"
    }
   },
   "outputs": [],
   "source": [
    "def tokenize_documents(tokenizer, documents, tokenizer_name):\n",
    "    tokenized_docs = []\n",
    "    start_time = time.time()\n",
    "    for doc in tqdm(documents, desc=f\"Tokenizing with {tokenizer_name}\", unit=\"doc\"):\n",
    "        tokens = tokenizer.tokenize(doc['text'])\n",
    "        tokenized_docs.append(tokens)\n",
    "    end_time = time.time()\n",
    "    elapsed_time = end_time - start_time\n",
    "    return tokenized_docs, elapsed_time"
   ]
  },
  {
   "cell_type": "code",
   "execution_count": 6,
   "id": "93385827209090f6",
   "metadata": {
    "ExecuteTime": {
     "end_time": "2024-09-30T19:35:01.366429Z",
     "start_time": "2024-09-30T19:16:58.893275Z"
    }
   },
   "outputs": [
    {
     "name": "stderr",
     "output_type": "stream",
     "text": [
      "Tokenizing with SplitTokenizer:   0%|          | 2/1000 [00:00<00:57, 17.36doc/s]"
     ]
    },
    {
     "name": "stdout",
     "output_type": "stream",
     "text": [
      "Using SplitTokenizer to tokenize...\n"
     ]
    },
    {
     "name": "stderr",
     "output_type": "stream",
     "text": [
      "Tokenizing with SplitTokenizer: 100%|██████████| 1000/1000 [00:11<00:00, 86.85doc/s]\n",
      "Tokenizing with RegexTokenizer:   0%|          | 2/1000 [00:00<00:53, 18.77doc/s]"
     ]
    },
    {
     "name": "stdout",
     "output_type": "stream",
     "text": [
      "SplitTokenizer duration: 11.52 seconds.\n",
      "Using RegexTokenizer to tokenize...\n"
     ]
    },
    {
     "name": "stderr",
     "output_type": "stream",
     "text": [
      "Tokenizing with RegexTokenizer: 100%|██████████| 1000/1000 [00:14<00:00, 71.15doc/s]\n",
      "Tokenizing with SpaCyTokenizer:   0%|          | 0/1000 [00:00<?, ?doc/s]"
     ]
    },
    {
     "name": "stdout",
     "output_type": "stream",
     "text": [
      "RegexTokenizer duration: 14.06 seconds.\n",
      "Using SpaCyTokenizer to tokenize...\n"
     ]
    },
    {
     "name": "stderr",
     "output_type": "stream",
     "text": [
      "C:\\Users\\16979\\AppData\\Local\\Programs\\Python\\Python312\\Lib\\site-packages\\spacy\\pipeline\\lemmatizer.py:211: UserWarning: [W108] The rule-based lemmatizer did not find POS annotation for one or more tokens. Check that your pipeline includes components that assign token.pos, typically 'tagger'+'attribute_ruler' or 'morphologizer'.\n",
      "  warnings.warn(Warnings.W108)\n",
      "Tokenizing with SpaCyTokenizer: 100%|██████████| 1000/1000 [17:36<00:00,  1.06s/doc]"
     ]
    },
    {
     "name": "stdout",
     "output_type": "stream",
     "text": [
      "SpaCyTokenizer duration: 1056.88 seconds.\n"
     ]
    },
    {
     "name": "stderr",
     "output_type": "stream",
     "text": [
      "\n"
     ]
    }
   ],
   "source": [
    "tokenizers = {\n",
    "    'SplitTokenizer': split_tokenizer,\n",
    "    'RegexTokenizer': regex_tokenizer,\n",
    "    'SpaCyTokenizer': spacy_tokenizer\n",
    "}\n",
    "\n",
    "times = {}\n",
    "tokenized_results = {}\n",
    "\n",
    "for name, tokenizer in tokenizers.items():\n",
    "    print(f\"Using {name} to tokenize...\")\n",
    "    tokens, elapsed = tokenize_documents(tokenizer, documents, name)\n",
    "    times[name] = elapsed\n",
    "    tokenized_results[name] = tokens\n",
    "    print(f\"{name} duration: {elapsed:.2f} seconds.\")"
   ]
  },
  {
   "cell_type": "code",
   "execution_count": 7,
   "id": "2d8efb46c86673ea",
   "metadata": {
    "ExecuteTime": {
     "end_time": "2024-09-30T19:35:01.706731Z",
     "start_time": "2024-09-30T19:35:01.368436Z"
    }
   },
   "outputs": [
    {
     "name": "stderr",
     "output_type": "stream",
     "text": [
      "C:\\Users\\16979\\AppData\\Local\\Temp\\ipykernel_103336\\153951637.py:5: FutureWarning: \n",
      "\n",
      "Passing `palette` without assigning `hue` is deprecated and will be removed in v0.14.0. Assign the `x` variable to `hue` and set `legend=False` for the same effect.\n",
      "\n",
      "  sns.barplot(x=preprocessors, y=elapsed_times, palette=\"viridis\")\n"
     ]
    },
    {
     "data": {
      "image/png": "[encoded data removed]",
      "text/plain": [
       "<Figure size 1000x600 with 1 Axes>"
      ]
     },
     "metadata": {},
     "output_type": "display_data"
    }
   ],
   "source": [
    "preprocessors = list(times.keys())\n",
    "elapsed_times = list(times.values())\n",
    "\n",
    "plt.figure(figsize=(10, 6))\n",
    "sns.barplot(x=preprocessors, y=elapsed_times, palette=\"viridis\")\n",
    "plt.xlabel('Preprocessors')\n",
    "plt.ylabel('Duration (seconds)')\n",
    "plt.title('Duration of each preprocessor')\n",
    "for index, value in enumerate(elapsed_times):\n",
    "    plt.text(index, value + max(elapsed_times)*0.01, f\"{value:.2f}\", ha='center')\n",
    "plt.show()"
   ]
  },
  {
   "cell_type": "code",
   "execution_count": 8,
   "id": "b3e817a55a96ee7c",
   "metadata": {
    "ExecuteTime": {
     "end_time": "2024-09-30T19:35:01.712241Z",
     "start_time": "2024-09-30T19:35:01.707734Z"
    }
   },
   "outputs": [
    {
     "name": "stdout",
     "output_type": "stream",
     "text": [
      "Estimate time for SplitTokenizer to tokenize 200000 documents: 0.64 hours.\n",
      "Estimate time for RegexTokenizer to tokenize 200000 documents: 0.78 hours.\n",
      "Estimate time for SpaCyTokenizer to tokenize 200000 documents: 58.72 hours.\n"
     ]
    }
   ],
   "source": [
    "total_docs = 200000\n",
    "average_times = {name: elapsed / 1000 for name, elapsed in times.items()}\n",
    "estimated_total_times = {name: avg_time * total_docs for name, avg_time in average_times.items()}\n",
    "estimated_total_times_hours = {name: time_sec / 3600 for name, time_sec in estimated_total_times.items()}\n",
    "\n",
    "for name in preprocessors:\n",
    "    print(f\"Estimate time for {name} to tokenize {total_docs} documents: {estimated_total_times_hours[name]:.2f} hours.\")"
   ]
  },
  {
   "cell_type": "markdown",
   "id": "f3fde197edcb9ec0",
   "metadata": {},
   "source": [
    "## Conclusion:\n",
    "\n",
    "From the experiments above, we observe the following:\n",
    "\n",
    "1. SplitTokenizer is the fastest, taking 11.52 seconds to process 1000 documents. It is estimated to take 0.64 hours to process the entire corpus of 200,000 documents. However, SplitTokenizer’s simplicity, relying solely on whitespace for tokenization, may result in lower accuracy when dealing with complex expressions and punctuation.\n",
    "\n",
    "2. RegexTokenizer offers a moderate speed, taking 14.06 seconds to process 1000 documents, with an estimated time of 0.78 hours for the full corpus. It uses regular expressions, making it better at handling punctuation and special characters, thus providing improved accuracy compared to SplitTokenizer.\n",
    "\n",
    "3. SpaCyTokenizer is the slowest, taking 1056.88 seconds to process 1000 documents, and would require an estimated 58.72 hours to tokenize 200,000 documents. However, SpaCyTokenizer excels in accuracy, handling more complex tokenization tasks and recognizing named entities (such as people and locations).\n",
    "\n",
    "Which tokenizer to use:\n",
    "1. In practical applications, the choice of tokenizer should be based on specific needs. If high tokenization accuracy is a priority and processing time is acceptable, SpaCyTokenizer is recommended. However, if processing time is the main concern and lower accuracy is acceptable, SplitTokenizer or RegexTokenizer would be more appropriate choices.\n",
    "2. In this exercise, I will choose to use RegexTokenizer considering both time and accuracy."
   ]
  },
  {
   "cell_type": "code",
   "execution_count": null,
   "id": "fc32389aa8017aad",
   "metadata": {},
   "outputs": [],
   "source": []
  }
 ],
 "metadata": {
  "kernelspec": {
   "display_name": "Python 3 (ipykernel)",
   "language": "python",
   "name": "python3"
  },
  "language_info": {
   "codemirror_mode": {
    "name": "ipython",
    "version": 3
   },
   "file_extension": ".py",
   "mimetype": "text/x-python",
   "name": "python",
   "nbconvert_exporter": "python",
   "pygments_lexer": "ipython3",
   "version": "3.12.2"
  }
 },
 "nbformat": 4,
 "nbformat_minor": 5
}
