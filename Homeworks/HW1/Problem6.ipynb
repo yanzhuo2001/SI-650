{
 "cells": [
  {
   "cell_type": "markdown",
   "id": "f1a3b525e0a05b44",
   "metadata": {},
   "source": [
    "# Problem 6\n",
    "## Custom Relevance Scorer Implementation\n",
    "I developed a custom relevance scoring function within the YourRanker class, which extends the RelevanceScorer base class. This scorer integrates several key components to evaluate document relevance effectively:\n",
    "\n",
    "1. Term Frequency (TF): Measures how often a query term appears in a document, increasing the relevance score as TF increases.\n",
    "2. Inverse Document Frequency (IDF): Assigns higher importance to rare terms across the corpus, ensuring that common terms contribute less to the relevance score.\n",
    "3. Document Length Normalization: Adjusts scores based on the document's length relative to the average, preventing longer documents from being unfairly favored.\n",
    "4. Position Weighting: Gives additional weight to terms appearing earlier in the document, based on the assumption that early mentions are more indicative of relevance.\n",
    "\n",
    "## Design Considerations with Respect to Relevance Axioms\n",
    "My relevance scorer adheres to several fundamental axioms:\n",
    "1. TF Axiom: Higher term frequency within a document boosts its relevance.\n",
    "2. IDF Axiom: Rare terms across the corpus are weighted more heavily, enhancing discriminative power.\n",
    "3. Length Normalization: Balances the influence of document length, ensuring fair comparison between documents of varying sizes.\n",
    "4. Position Axiom: Prioritizes terms found earlier in the text, aligning with the notion that introductory content is often more relevant.\n",
    "\n",
    "## Thought Process\n",
    "I based the scorer on the BM25 framework, known for its effectiveness in information retrieval. By adding a positional component, I aimed to incorporate the intuitive idea that the placement of terms within a document can impact its relevance. The parameters b=0.75 and k1=1.2 were chosen to balance term frequency saturation and length normalization, following common BM25 configurations. Although the positional weighting is an experimental addition, it provides valuable insights into how term placement affects ranking performance."
   ]
  },
  {
   "cell_type": "code",
   "execution_count": null,
   "id": "ad1f0f4cde8f2e11",
   "metadata": {},
   "outputs": [],
   "source": []
  }
 ],
 "metadata": {
  "kernelspec": {
   "display_name": "Python 3 (ipykernel)",
   "language": "python",
   "name": "python3"
  },
  "language_info": {
   "codemirror_mode": {
    "name": "ipython",
    "version": 3
   },
   "file_extension": ".py",
   "mimetype": "text/x-python",
   "name": "python",
   "nbconvert_exporter": "python",
   "pygments_lexer": "ipython3",
   "version": "3.12.2"
  }
 },
 "nbformat": 4,
 "nbformat_minor": 5
}
